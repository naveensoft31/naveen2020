{
 "cells": [
  {
   "cell_type": "code",
   "execution_count": 28,
   "metadata": {},
   "outputs": [
    {
     "name": "stdout",
     "output_type": "stream",
     "text": [
      "ENter Staff Number:2344\n",
      "Enter staff Name:Naveen\n",
      "Enter Salary:25000\n",
      "Staff No.:2344\n",
      "Staff Name:Naveen\n",
      "Salary25000\n",
      "Bonus:5000.0\n"
     ]
    }
   ],
   "source": [
    "class Employee:\n",
    "    def __init__(self,StaffNum,StaffName,Salary):  #initialise the variables\n",
    "        self.StaffNum=StaffNum\n",
    "        self.StaffName=StaffName\n",
    "        self.Salary=Salary\n",
    "    def CalcBonus(self):\n",
    "        b=\":\"\n",
    "        if self.Salary>=20000:        #condition for salary range to calculate bonus on salary\n",
    "            bonus=(25/100)*salary\n",
    "            b+=str(bonus)            #Display the Bonus\n",
    "        else:\n",
    "            print(\"No Bonus\")\n",
    "        print(\"Staff No.:\"+str(StaffNum)+\"\\n\"+\"Staff Name:\"+StaffName+\"\\n\"+\"Salary:\"+str(Salary)+\"\\n\"+\"Bonus\"+str(b))\n",
    "StaffNum=int(input(\"ENter Staff Number:\"))\n",
    "StaffName=input(\"Enter staff Name:\")\n",
    "Salary=int(input(\"Enter Salary:\"))\n",
    "e=Employee(StaffNum,StaffName,Salary)\n",
    "e.CalcBonus()"
   ]
  },
  {
   "cell_type": "code",
   "execution_count": null,
   "metadata": {},
   "outputs": [],
   "source": []
  }
 ],
 "metadata": {
  "kernelspec": {
   "display_name": "Python 3",
   "language": "python",
   "name": "python3"
  },
  "language_info": {
   "codemirror_mode": {
    "name": "ipython",
    "version": 3
   },
   "file_extension": ".py",
   "mimetype": "text/x-python",
   "name": "python",
   "nbconvert_exporter": "python",
   "pygments_lexer": "ipython3",
   "version": "3.8.5"
  }
 },
 "nbformat": 4,
 "nbformat_minor": 4
}
